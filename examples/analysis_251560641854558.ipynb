{
 "cells": [
  {
   "cell_type": "markdown",
   "metadata": {},
   "source": [
    "# Facebook Posts Analysis\n",
    "Analysis based on data gathered from Facebook page/group.\n",
    "\n",
    "For more information, please check the documentation or visit https://github.com/IgorRosocha/FacebookPostsAnalysis\n",
    "\n",
    "ID of analyzed group/page: 251560641854558"
   ]
  },
  {
   "cell_type": "markdown",
   "metadata": {},
   "source": [
    "<img src=\"https://github.com/IgorRosocha/FacebookPostsAnalysis/blob/master/FacebookPostsAnalysis/static/images/Python.png?raw=true\" style=\"width: 100px; float: left;\"/>\n",
    "\n",
    "<img src=\"https://github.com/IgorRosocha/FacebookPostsAnalysis/blob/master/FacebookPostsAnalysis/static/images/Facebook.png?raw=true\" style=\"width: 100px; float: left;\"/>\n",
    "\n",
    "<img src=\"https://github.com/IgorRosocha/FacebookPostsAnalysis/blob/master/FacebookPostsAnalysis/static/images/Pandas.png?raw=true\" style=\"width: 400px; float: left;\"/>"
   ]
  },
  {
   "cell_type": "code",
   "execution_count": 1,
   "metadata": {},
   "outputs": [],
   "source": [
    "import pandas as pd\n",
    "import matplotlib\n",
    "import numpy as np\n",
    "import calendar\n",
    "\n",
    "%matplotlib inline"
   ]
  },
  {
   "cell_type": "markdown",
   "metadata": {},
   "source": [
    "### 1. Total number of posts:"
   ]
  },
  {
   "cell_type": "code",
   "execution_count": 2,
   "metadata": {},
   "outputs": [
    {
     "name": "stdout",
     "output_type": "stream",
     "text": [
      "Total number of posts: 1914\n"
     ]
    }
   ],
   "source": [
    "results = pd.read_csv(\"analysis_csv_251560641854558.csv\", index_col=None)\n",
    "number_of_posts = results[\"ID\"].count()\n",
    "print(\"Total number of posts: {}\".format(number_of_posts))"
   ]
  },
  {
   "cell_type": "markdown",
   "metadata": {},
   "source": [
    "### 2. Most popular posts:"
   ]
  },
  {
   "cell_type": "code",
   "execution_count": 3,
   "metadata": {},
   "outputs": [],
   "source": [
    "def find_most(column_name):\n",
    "    most = results[[\"ID\", column_name, \"Author\", \"Date created\", \"Message\"]]\n",
    "    most = most.sort_values(by=[column_name], ascending=False)[:5].reset_index(drop=True)\n",
    "    most.index = most.index + 1\n",
    "    return most"
   ]
  },
  {
   "cell_type": "markdown",
   "metadata": {},
   "source": [
    "**a) Posts with the highest number of reactions:**\n",
    "\n",
    "<img src=\"https://github.com/IgorRosocha/FacebookPostsAnalysis/blob/master/FacebookPostsAnalysis/static/images/Reactions.png?raw=true\" style=\"width: 400px; float: left;\"/>"
   ]
  },
  {
   "cell_type": "code",
   "execution_count": 4,
   "metadata": {},
   "outputs": [
    {
     "data": {
      "text/html": [
       "<div>\n",
       "<style>\n",
       "    .dataframe thead tr:only-child th {\n",
       "        text-align: right;\n",
       "    }\n",
       "\n",
       "    .dataframe thead th {\n",
       "        text-align: left;\n",
       "    }\n",
       "\n",
       "    .dataframe tbody tr th {\n",
       "        vertical-align: top;\n",
       "    }\n",
       "</style>\n",
       "<table border=\"1\" class=\"dataframe\">\n",
       "  <thead>\n",
       "    <tr style=\"text-align: right;\">\n",
       "      <th></th>\n",
       "      <th>ID</th>\n",
       "      <th>Number of reactions</th>\n",
       "      <th>Author</th>\n",
       "      <th>Date created</th>\n",
       "      <th>Message</th>\n",
       "    </tr>\n",
       "  </thead>\n",
       "  <tbody>\n",
       "    <tr>\n",
       "      <th>1</th>\n",
       "      <td>324</td>\n",
       "      <td>492</td>\n",
       "      <td>Sheik Masood</td>\n",
       "      <td>2017-10-31 06:27:04</td>\n",
       "      <td>[MULTIMEDIA CONTENT] No message.</td>\n",
       "    </tr>\n",
       "    <tr>\n",
       "      <th>2</th>\n",
       "      <td>414</td>\n",
       "      <td>438</td>\n",
       "      <td>Godson Chijioke</td>\n",
       "      <td>2017-10-14 08:24:24</td>\n",
       "      <td>Knowing Python programming is great.\\n\\nBut co...</td>\n",
       "    </tr>\n",
       "    <tr>\n",
       "      <th>3</th>\n",
       "      <td>714</td>\n",
       "      <td>386</td>\n",
       "      <td>Dibakar Saha</td>\n",
       "      <td>2017-08-11 10:16:18</td>\n",
       "      <td>Just wanted to share my gesture recognition pr...</td>\n",
       "    </tr>\n",
       "    <tr>\n",
       "      <th>4</th>\n",
       "      <td>178</td>\n",
       "      <td>339</td>\n",
       "      <td>Sagar Budhathoki</td>\n",
       "      <td>2017-10-30 22:15:08</td>\n",
       "      <td>From which country you are from?\\nI am from Ne...</td>\n",
       "    </tr>\n",
       "    <tr>\n",
       "      <th>5</th>\n",
       "      <td>1093</td>\n",
       "      <td>280</td>\n",
       "      <td>Denniel Luis Saway Sadian</td>\n",
       "      <td>2017-07-30 23:20:58</td>\n",
       "      <td>A programmer that codes without looking to the...</td>\n",
       "    </tr>\n",
       "  </tbody>\n",
       "</table>\n",
       "</div>"
      ],
      "text/plain": [
       "     ID  Number of reactions                     Author         Date created  \\\n",
       "1   324                  492               Sheik Masood  2017-10-31 06:27:04   \n",
       "2   414                  438            Godson Chijioke  2017-10-14 08:24:24   \n",
       "3   714                  386               Dibakar Saha  2017-08-11 10:16:18   \n",
       "4   178                  339           Sagar Budhathoki  2017-10-30 22:15:08   \n",
       "5  1093                  280  Denniel Luis Saway Sadian  2017-07-30 23:20:58   \n",
       "\n",
       "                                             Message  \n",
       "1                   [MULTIMEDIA CONTENT] No message.  \n",
       "2  Knowing Python programming is great.\\n\\nBut co...  \n",
       "3  Just wanted to share my gesture recognition pr...  \n",
       "4  From which country you are from?\\nI am from Ne...  \n",
       "5  A programmer that codes without looking to the...  "
      ]
     },
     "execution_count": 4,
     "metadata": {},
     "output_type": "execute_result"
    }
   ],
   "source": [
    "find_most(\"Number of reactions\")"
   ]
  },
  {
   "cell_type": "markdown",
   "metadata": {},
   "source": [
    "**b) Posts with the highest number of likes:**\n",
    "\n",
    "<img src=\"https://github.com/IgorRosocha/FacebookPostsAnalysis/blob/master/FacebookPostsAnalysis/static/images/Like.png?raw=true\" style=\"width: 400px; float: left;\"/>"
   ]
  },
  {
   "cell_type": "code",
   "execution_count": 5,
   "metadata": {},
   "outputs": [
    {
     "data": {
      "text/html": [
       "<div>\n",
       "<style>\n",
       "    .dataframe thead tr:only-child th {\n",
       "        text-align: right;\n",
       "    }\n",
       "\n",
       "    .dataframe thead th {\n",
       "        text-align: left;\n",
       "    }\n",
       "\n",
       "    .dataframe tbody tr th {\n",
       "        vertical-align: top;\n",
       "    }\n",
       "</style>\n",
       "<table border=\"1\" class=\"dataframe\">\n",
       "  <thead>\n",
       "    <tr style=\"text-align: right;\">\n",
       "      <th></th>\n",
       "      <th>ID</th>\n",
       "      <th>Number of Likes</th>\n",
       "      <th>Author</th>\n",
       "      <th>Date created</th>\n",
       "      <th>Message</th>\n",
       "    </tr>\n",
       "  </thead>\n",
       "  <tbody>\n",
       "    <tr>\n",
       "      <th>1</th>\n",
       "      <td>324</td>\n",
       "      <td>325</td>\n",
       "      <td>Sheik Masood</td>\n",
       "      <td>2017-10-31 06:27:04</td>\n",
       "      <td>[MULTIMEDIA CONTENT] No message.</td>\n",
       "    </tr>\n",
       "    <tr>\n",
       "      <th>2</th>\n",
       "      <td>414</td>\n",
       "      <td>322</td>\n",
       "      <td>Godson Chijioke</td>\n",
       "      <td>2017-10-14 08:24:24</td>\n",
       "      <td>Knowing Python programming is great.\\n\\nBut co...</td>\n",
       "    </tr>\n",
       "    <tr>\n",
       "      <th>3</th>\n",
       "      <td>178</td>\n",
       "      <td>315</td>\n",
       "      <td>Sagar Budhathoki</td>\n",
       "      <td>2017-10-30 22:15:08</td>\n",
       "      <td>From which country you are from?\\nI am from Ne...</td>\n",
       "    </tr>\n",
       "    <tr>\n",
       "      <th>4</th>\n",
       "      <td>714</td>\n",
       "      <td>314</td>\n",
       "      <td>Dibakar Saha</td>\n",
       "      <td>2017-08-11 10:16:18</td>\n",
       "      <td>Just wanted to share my gesture recognition pr...</td>\n",
       "    </tr>\n",
       "    <tr>\n",
       "      <th>5</th>\n",
       "      <td>1093</td>\n",
       "      <td>247</td>\n",
       "      <td>Denniel Luis Saway Sadian</td>\n",
       "      <td>2017-07-30 23:20:58</td>\n",
       "      <td>A programmer that codes without looking to the...</td>\n",
       "    </tr>\n",
       "  </tbody>\n",
       "</table>\n",
       "</div>"
      ],
      "text/plain": [
       "     ID  Number of Likes                     Author         Date created  \\\n",
       "1   324              325               Sheik Masood  2017-10-31 06:27:04   \n",
       "2   414              322            Godson Chijioke  2017-10-14 08:24:24   \n",
       "3   178              315           Sagar Budhathoki  2017-10-30 22:15:08   \n",
       "4   714              314               Dibakar Saha  2017-08-11 10:16:18   \n",
       "5  1093              247  Denniel Luis Saway Sadian  2017-07-30 23:20:58   \n",
       "\n",
       "                                             Message  \n",
       "1                   [MULTIMEDIA CONTENT] No message.  \n",
       "2  Knowing Python programming is great.\\n\\nBut co...  \n",
       "3  From which country you are from?\\nI am from Ne...  \n",
       "4  Just wanted to share my gesture recognition pr...  \n",
       "5  A programmer that codes without looking to the...  "
      ]
     },
     "execution_count": 5,
     "metadata": {},
     "output_type": "execute_result"
    }
   ],
   "source": [
    "find_most(\"Number of Likes\")"
   ]
  },
  {
   "cell_type": "markdown",
   "metadata": {},
   "source": [
    "**c) Posts with the highest number of shares:**\n",
    "\n",
    "<img src=\"https://github.com/IgorRosocha/FacebookPostsAnalysis/blob/master/FacebookPostsAnalysis/static/images/Share.png?raw=true\" style=\"width: 400px; float: left;\"/>"
   ]
  },
  {
   "cell_type": "code",
   "execution_count": 6,
   "metadata": {},
   "outputs": [
    {
     "data": {
      "text/html": [
       "<div>\n",
       "<style>\n",
       "    .dataframe thead tr:only-child th {\n",
       "        text-align: right;\n",
       "    }\n",
       "\n",
       "    .dataframe thead th {\n",
       "        text-align: left;\n",
       "    }\n",
       "\n",
       "    .dataframe tbody tr th {\n",
       "        vertical-align: top;\n",
       "    }\n",
       "</style>\n",
       "<table border=\"1\" class=\"dataframe\">\n",
       "  <thead>\n",
       "    <tr style=\"text-align: right;\">\n",
       "      <th></th>\n",
       "      <th>ID</th>\n",
       "      <th>Number of shares</th>\n",
       "      <th>Author</th>\n",
       "      <th>Date created</th>\n",
       "      <th>Message</th>\n",
       "    </tr>\n",
       "  </thead>\n",
       "  <tbody>\n",
       "    <tr>\n",
       "      <th>1</th>\n",
       "      <td>414</td>\n",
       "      <td>89</td>\n",
       "      <td>Godson Chijioke</td>\n",
       "      <td>2017-10-14 08:24:24</td>\n",
       "      <td>Knowing Python programming is great.\\n\\nBut co...</td>\n",
       "    </tr>\n",
       "    <tr>\n",
       "      <th>2</th>\n",
       "      <td>324</td>\n",
       "      <td>54</td>\n",
       "      <td>Sheik Masood</td>\n",
       "      <td>2017-10-31 06:27:04</td>\n",
       "      <td>[MULTIMEDIA CONTENT] No message.</td>\n",
       "    </tr>\n",
       "    <tr>\n",
       "      <th>3</th>\n",
       "      <td>181</td>\n",
       "      <td>54</td>\n",
       "      <td>Mahmoud Hackson Hlhel</td>\n",
       "      <td>2017-11-14 14:19:40</td>\n",
       "      <td>The library has a full 500 GB of courses and b...</td>\n",
       "    </tr>\n",
       "    <tr>\n",
       "      <th>4</th>\n",
       "      <td>890</td>\n",
       "      <td>31</td>\n",
       "      <td>Austin Heisley-Cook</td>\n",
       "      <td>2017-08-17 04:39:05</td>\n",
       "      <td>For all curious about gui apps</td>\n",
       "    </tr>\n",
       "    <tr>\n",
       "      <th>5</th>\n",
       "      <td>714</td>\n",
       "      <td>26</td>\n",
       "      <td>Dibakar Saha</td>\n",
       "      <td>2017-08-11 10:16:18</td>\n",
       "      <td>Just wanted to share my gesture recognition pr...</td>\n",
       "    </tr>\n",
       "  </tbody>\n",
       "</table>\n",
       "</div>"
      ],
      "text/plain": [
       "    ID  Number of shares                 Author         Date created  \\\n",
       "1  414                89        Godson Chijioke  2017-10-14 08:24:24   \n",
       "2  324                54           Sheik Masood  2017-10-31 06:27:04   \n",
       "3  181                54  Mahmoud Hackson Hlhel  2017-11-14 14:19:40   \n",
       "4  890                31    Austin Heisley-Cook  2017-08-17 04:39:05   \n",
       "5  714                26           Dibakar Saha  2017-08-11 10:16:18   \n",
       "\n",
       "                                             Message  \n",
       "1  Knowing Python programming is great.\\n\\nBut co...  \n",
       "2                   [MULTIMEDIA CONTENT] No message.  \n",
       "3  The library has a full 500 GB of courses and b...  \n",
       "4                     For all curious about gui apps  \n",
       "5  Just wanted to share my gesture recognition pr...  "
      ]
     },
     "execution_count": 6,
     "metadata": {},
     "output_type": "execute_result"
    }
   ],
   "source": [
    "find_most(\"Number of shares\")"
   ]
  },
  {
   "cell_type": "markdown",
   "metadata": {},
   "source": [
    "**d) Posts with the highest number of comments:**\n",
    "\n",
    "<img src=\"https://github.com/IgorRosocha/FacebookPostsAnalysis/blob/master/FacebookPostsAnalysis/static/images/Comment.png?raw=true\" style=\"width: 400px; float: left;\"/>"
   ]
  },
  {
   "cell_type": "code",
   "execution_count": 7,
   "metadata": {},
   "outputs": [
    {
     "data": {
      "text/html": [
       "<div>\n",
       "<style>\n",
       "    .dataframe thead tr:only-child th {\n",
       "        text-align: right;\n",
       "    }\n",
       "\n",
       "    .dataframe thead th {\n",
       "        text-align: left;\n",
       "    }\n",
       "\n",
       "    .dataframe tbody tr th {\n",
       "        vertical-align: top;\n",
       "    }\n",
       "</style>\n",
       "<table border=\"1\" class=\"dataframe\">\n",
       "  <thead>\n",
       "    <tr style=\"text-align: right;\">\n",
       "      <th></th>\n",
       "      <th>ID</th>\n",
       "      <th>Number of comments</th>\n",
       "      <th>Author</th>\n",
       "      <th>Date created</th>\n",
       "      <th>Message</th>\n",
       "    </tr>\n",
       "  </thead>\n",
       "  <tbody>\n",
       "    <tr>\n",
       "      <th>1</th>\n",
       "      <td>178</td>\n",
       "      <td>435</td>\n",
       "      <td>Sagar Budhathoki</td>\n",
       "      <td>2017-10-30 22:15:08</td>\n",
       "      <td>From which country you are from?\\nI am from Ne...</td>\n",
       "    </tr>\n",
       "    <tr>\n",
       "      <th>2</th>\n",
       "      <td>1441</td>\n",
       "      <td>189</td>\n",
       "      <td>Tay Fame</td>\n",
       "      <td>2017-07-16 14:08:03</td>\n",
       "      <td>Hi Everyone,\\nAm starting a WhatsApp Group for...</td>\n",
       "    </tr>\n",
       "    <tr>\n",
       "      <th>3</th>\n",
       "      <td>928</td>\n",
       "      <td>112</td>\n",
       "      <td>Zerep Lin</td>\n",
       "      <td>2017-08-09 11:55:49</td>\n",
       "      <td>What programming language should I start with ...</td>\n",
       "    </tr>\n",
       "    <tr>\n",
       "      <th>4</th>\n",
       "      <td>1442</td>\n",
       "      <td>103</td>\n",
       "      <td>Ah Gust</td>\n",
       "      <td>2017-07-16 13:41:58</td>\n",
       "      <td>My brothers.....\\nIf u are abeginner and you d...</td>\n",
       "    </tr>\n",
       "    <tr>\n",
       "      <th>5</th>\n",
       "      <td>223</td>\n",
       "      <td>79</td>\n",
       "      <td>Than Aung</td>\n",
       "      <td>2017-11-17 16:16:27</td>\n",
       "      <td>I just want to know what is your purpose of le...</td>\n",
       "    </tr>\n",
       "  </tbody>\n",
       "</table>\n",
       "</div>"
      ],
      "text/plain": [
       "     ID  Number of comments            Author         Date created  \\\n",
       "1   178                 435  Sagar Budhathoki  2017-10-30 22:15:08   \n",
       "2  1441                 189          Tay Fame  2017-07-16 14:08:03   \n",
       "3   928                 112         Zerep Lin  2017-08-09 11:55:49   \n",
       "4  1442                 103           Ah Gust  2017-07-16 13:41:58   \n",
       "5   223                  79         Than Aung  2017-11-17 16:16:27   \n",
       "\n",
       "                                             Message  \n",
       "1  From which country you are from?\\nI am from Ne...  \n",
       "2  Hi Everyone,\\nAm starting a WhatsApp Group for...  \n",
       "3  What programming language should I start with ...  \n",
       "4  My brothers.....\\nIf u are abeginner and you d...  \n",
       "5  I just want to know what is your purpose of le...  "
      ]
     },
     "execution_count": 7,
     "metadata": {},
     "output_type": "execute_result"
    }
   ],
   "source": [
    "find_most(\"Number of comments\")"
   ]
  },
  {
   "cell_type": "markdown",
   "metadata": {},
   "source": [
    "### 3. Most unpopular posts:"
   ]
  },
  {
   "cell_type": "markdown",
   "metadata": {},
   "source": [
    "**a) Posts with the highest number of ANGRY reactions:**\n",
    "\n",
    "<img src=\"https://github.com/IgorRosocha/FacebookPostsAnalysis/blob/master/FacebookPostsAnalysis/static/images/Angry.png?raw=true\" style=\"width: 400px; float: left;\"/>"
   ]
  },
  {
   "cell_type": "code",
   "execution_count": 8,
   "metadata": {},
   "outputs": [
    {
     "data": {
      "text/html": [
       "<div>\n",
       "<style>\n",
       "    .dataframe thead tr:only-child th {\n",
       "        text-align: right;\n",
       "    }\n",
       "\n",
       "    .dataframe thead th {\n",
       "        text-align: left;\n",
       "    }\n",
       "\n",
       "    .dataframe tbody tr th {\n",
       "        vertical-align: top;\n",
       "    }\n",
       "</style>\n",
       "<table border=\"1\" class=\"dataframe\">\n",
       "  <thead>\n",
       "    <tr style=\"text-align: right;\">\n",
       "      <th></th>\n",
       "      <th>ID</th>\n",
       "      <th>Number of Angrys</th>\n",
       "      <th>Author</th>\n",
       "      <th>Date created</th>\n",
       "      <th>Message</th>\n",
       "    </tr>\n",
       "  </thead>\n",
       "  <tbody>\n",
       "    <tr>\n",
       "      <th>1</th>\n",
       "      <td>432</td>\n",
       "      <td>4</td>\n",
       "      <td>Adnan Ahmed</td>\n",
       "      <td>2017-10-17 23:33:51</td>\n",
       "      <td>Good English Speaker == Good Programmer ?</td>\n",
       "    </tr>\n",
       "    <tr>\n",
       "      <th>2</th>\n",
       "      <td>935</td>\n",
       "      <td>3</td>\n",
       "      <td>Rohit Kumar</td>\n",
       "      <td>2017-08-08 14:24:06</td>\n",
       "      <td>Hey everyone  I just wanna know which programm...</td>\n",
       "    </tr>\n",
       "    <tr>\n",
       "      <th>3</th>\n",
       "      <td>748</td>\n",
       "      <td>2</td>\n",
       "      <td>Shani Khan</td>\n",
       "      <td>2017-09-07 23:39:04</td>\n",
       "      <td>please help me in this program\\n1.      Write ...</td>\n",
       "    </tr>\n",
       "    <tr>\n",
       "      <th>4</th>\n",
       "      <td>167</td>\n",
       "      <td>2</td>\n",
       "      <td>El Francis</td>\n",
       "      <td>2017-11-28 04:55:34</td>\n",
       "      <td>guys how to convert a code into an app? what k...</td>\n",
       "    </tr>\n",
       "    <tr>\n",
       "      <th>5</th>\n",
       "      <td>1028</td>\n",
       "      <td>2</td>\n",
       "      <td>Louis Offor</td>\n",
       "      <td>2017-08-05 09:20:25</td>\n",
       "      <td>Hello all,\\n\\nThanks for having me here. Howev...</td>\n",
       "    </tr>\n",
       "  </tbody>\n",
       "</table>\n",
       "</div>"
      ],
      "text/plain": [
       "     ID  Number of Angrys       Author         Date created  \\\n",
       "1   432                 4  Adnan Ahmed  2017-10-17 23:33:51   \n",
       "2   935                 3  Rohit Kumar  2017-08-08 14:24:06   \n",
       "3   748                 2   Shani Khan  2017-09-07 23:39:04   \n",
       "4   167                 2   El Francis  2017-11-28 04:55:34   \n",
       "5  1028                 2  Louis Offor  2017-08-05 09:20:25   \n",
       "\n",
       "                                             Message  \n",
       "1          Good English Speaker == Good Programmer ?  \n",
       "2  Hey everyone  I just wanna know which programm...  \n",
       "3  please help me in this program\\n1.      Write ...  \n",
       "4  guys how to convert a code into an app? what k...  \n",
       "5  Hello all,\\n\\nThanks for having me here. Howev...  "
      ]
     },
     "execution_count": 8,
     "metadata": {},
     "output_type": "execute_result"
    }
   ],
   "source": [
    "find_most(\"Number of Angrys\")"
   ]
  },
  {
   "cell_type": "markdown",
   "metadata": {},
   "source": [
    "**a) Posts with the highest number of SAD reactions:**\n",
    "\n",
    "<img src=\"https://github.com/IgorRosocha/FacebookPostsAnalysis/blob/master/FacebookPostsAnalysis/static/images/Sad.png?raw=true\" style=\"width: 400px; float: left;\"/>"
   ]
  },
  {
   "cell_type": "code",
   "execution_count": 9,
   "metadata": {},
   "outputs": [
    {
     "data": {
      "text/html": [
       "<div>\n",
       "<style>\n",
       "    .dataframe thead tr:only-child th {\n",
       "        text-align: right;\n",
       "    }\n",
       "\n",
       "    .dataframe thead th {\n",
       "        text-align: left;\n",
       "    }\n",
       "\n",
       "    .dataframe tbody tr th {\n",
       "        vertical-align: top;\n",
       "    }\n",
       "</style>\n",
       "<table border=\"1\" class=\"dataframe\">\n",
       "  <thead>\n",
       "    <tr style=\"text-align: right;\">\n",
       "      <th></th>\n",
       "      <th>ID</th>\n",
       "      <th>Number of Sads</th>\n",
       "      <th>Author</th>\n",
       "      <th>Date created</th>\n",
       "      <th>Message</th>\n",
       "    </tr>\n",
       "  </thead>\n",
       "  <tbody>\n",
       "    <tr>\n",
       "      <th>1</th>\n",
       "      <td>1434</td>\n",
       "      <td>3</td>\n",
       "      <td>Asad Ali</td>\n",
       "      <td>2017-07-16 18:23:44</td>\n",
       "      <td>[MULTIMEDIA CONTENT] No message.</td>\n",
       "    </tr>\n",
       "    <tr>\n",
       "      <th>2</th>\n",
       "      <td>324</td>\n",
       "      <td>3</td>\n",
       "      <td>Sheik Masood</td>\n",
       "      <td>2017-10-31 06:27:04</td>\n",
       "      <td>[MULTIMEDIA CONTENT] No message.</td>\n",
       "    </tr>\n",
       "    <tr>\n",
       "      <th>3</th>\n",
       "      <td>591</td>\n",
       "      <td>1</td>\n",
       "      <td>Anurag Agrwal</td>\n",
       "      <td>2017-09-25 11:19:17</td>\n",
       "      <td>why out put is 'none'\\nedited: thanks for your...</td>\n",
       "    </tr>\n",
       "    <tr>\n",
       "      <th>4</th>\n",
       "      <td>1027</td>\n",
       "      <td>1</td>\n",
       "      <td>Yehia Ahmed Ali</td>\n",
       "      <td>2017-08-03 02:21:07</td>\n",
       "      <td>I want to learn programming, I don't have expe...</td>\n",
       "    </tr>\n",
       "    <tr>\n",
       "      <th>5</th>\n",
       "      <td>77</td>\n",
       "      <td>1</td>\n",
       "      <td>Hamsath Kumaar</td>\n",
       "      <td>2017-12-16 12:55:54</td>\n",
       "      <td>To be honest, some of the posts here makes me ...</td>\n",
       "    </tr>\n",
       "  </tbody>\n",
       "</table>\n",
       "</div>"
      ],
      "text/plain": [
       "     ID  Number of Sads           Author         Date created  \\\n",
       "1  1434               3         Asad Ali  2017-07-16 18:23:44   \n",
       "2   324               3     Sheik Masood  2017-10-31 06:27:04   \n",
       "3   591               1    Anurag Agrwal  2017-09-25 11:19:17   \n",
       "4  1027               1  Yehia Ahmed Ali  2017-08-03 02:21:07   \n",
       "5    77               1   Hamsath Kumaar  2017-12-16 12:55:54   \n",
       "\n",
       "                                             Message  \n",
       "1                   [MULTIMEDIA CONTENT] No message.  \n",
       "2                   [MULTIMEDIA CONTENT] No message.  \n",
       "3  why out put is 'none'\\nedited: thanks for your...  \n",
       "4  I want to learn programming, I don't have expe...  \n",
       "5  To be honest, some of the posts here makes me ...  "
      ]
     },
     "execution_count": 9,
     "metadata": {},
     "output_type": "execute_result"
    }
   ],
   "source": [
    "find_most(\"Number of Sads\")"
   ]
  },
  {
   "cell_type": "markdown",
   "metadata": {},
   "source": [
    "### 4. Months with the biggest activity"
   ]
  },
  {
   "cell_type": "code",
   "execution_count": 10,
   "metadata": {},
   "outputs": [],
   "source": [
    "activity = results[[\"Number of reactions\", \"Number of comments\", \"Date created\"]]\n",
    "activity = activity.assign(Ratio=activity[\"Number of reactions\"] + activity[\"Number of comments\"])\n",
    "activity[\"Date created\"] = pd.to_datetime(activity[\"Date created\"])\n",
    "activity = activity.sort_values(by=\"Date created\")\n",
    "activity[\"mnth_yr\"] = activity[\"Date created\"].apply(lambda x: x.strftime(\"%b-%Y\"))\n",
    "activity = activity.groupby([\"mnth_yr\"], sort=False).sum()\n",
    "activity = activity.drop([\"Number of comments\", \"Number of reactions\"], 1)"
   ]
  },
  {
   "cell_type": "code",
   "execution_count": 11,
   "metadata": {},
   "outputs": [
    {
     "data": {
      "image/png": "[encoded data removed]",
      "text/plain": [
       "<matplotlib.figure.Figure at 0x10ed1d898>"
      ]
     },
     "metadata": {},
     "output_type": "display_data"
    }
   ],
   "source": [
    "if activity[\"Ratio\"].max() < 250:\n",
    "    ticks = 10\n",
    "elif activity[\"Ratio\"].max() < 2500:\n",
    "    ticks = 100\n",
    "else:\n",
    "    ticks = 1000\n",
    "\n",
    "graph = activity.plot.bar(color=\"#8b9dc3\", title=\"Months with the biggest activity\", figsize=(15,5), legend=True)\n",
    "graph.set_xlabel(\"Month\")\n",
    "graph.set_ylabel(\"Activity Ratio\")\n",
    "graph.yaxis.set_ticks(np.arange(0,activity[\"Ratio\"].max(),ticks))\n",
    "graph.set_facecolor(\"#f7f7f7\")\n",
    "graph.grid(\"on\", which=\"major\", axis=\"y\")"
   ]
  }
 ],
 "metadata": {
  "kernelspec": {
   "display_name": "Python 3",
   "language": "python",
   "name": "python3"
  },
  "language_info": {
   "codemirror_mode": {
    "name": "ipython",
    "version": 3
   },
   "file_extension": ".py",
   "mimetype": "text/x-python",
   "name": "python",
   "nbconvert_exporter": "python",
   "pygments_lexer": "ipython3",
   "version": "3.6.3"
  }
 },
 "nbformat": 4,
 "nbformat_minor": 2
}
