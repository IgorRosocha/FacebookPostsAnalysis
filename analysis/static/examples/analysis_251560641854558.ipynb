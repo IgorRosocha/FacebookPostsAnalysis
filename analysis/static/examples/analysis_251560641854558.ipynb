{
 "cells": [
  {
   "cell_type": "markdown",
   "metadata": {},
   "source": [
    "# Facebook Posts Analysis\n",
    "Analysis based on data gathered from Facebook page/group.\n",
    "\n",
    "For more information, please check the documentation or visit https://github.com/IgorRosocha/FacebookPostsAnalysis\n",
    "\n",
    "ID of analyzed group/page: 251560641854558"
   ]
  },
  {
   "cell_type": "markdown",
   "metadata": {},
   "source": [
    "<img src=\"https://github.com/IgorRosocha/FacebookPostsAnalysis/blob/master/analysis/static/images/Python.png?raw=true\" style=\"width: 100px; float: left;\"/>\n",
    "\n",
    "<img src=\"https://github.com/IgorRosocha/FacebookPostsAnalysis/blob/master/analysis/static/images/Facebook.png?raw=true\" style=\"width: 100px; float: left;\"/>\n",
    "\n",
    "<img src=\"https://github.com/IgorRosocha/FacebookPostsAnalysis/blob/master/analysis/static/images/Pandas.png?raw=true\" style=\"width: 400px; float: left;\"/>"
   ]
  },
  {
   "cell_type": "code",
   "execution_count": null,
   "metadata": {},
   "outputs": [],
   "source": [
    "import pandas as pd\n",
    "import matplotlib\n",
    "import numpy as np\n",
    "import calendar\n",
    "\n",
    "%matplotlib inline"
   ]
  },
  {
   "cell_type": "markdown",
   "metadata": {},
   "source": [
    "### 1. Total number of posts:"
   ]
  },
  {
   "cell_type": "code",
   "execution_count": null,
   "metadata": {},
   "outputs": [],
   "source": [
    "results = pd.read_csv(\"analysis_csv_251560641854558.csv\", index_col=None)\n",
    "number_of_posts = results[\"ID\"].count()\n",
    "print(\"Total number of posts: {}\".format(number_of_posts))"
   ]
  },
  {
   "cell_type": "markdown",
   "metadata": {},
   "source": [
    "### 2. Most popular posts:"
   ]
  },
  {
   "cell_type": "code",
   "execution_count": null,
   "metadata": {},
   "outputs": [],
   "source": [
    "def find_most(column_name):\n",
    "    most = results[[\"ID\", column_name, \"Author\", \"Date created\", \"Message\"]]\n",
    "    most = most.sort_values(by=[column_name], ascending=False)[:5].reset_index(drop=True)\n",
    "    most.index = most.index + 1\n",
    "    return most"
   ]
  },
  {
   "cell_type": "markdown",
   "metadata": {},
   "source": [
    "**a) Posts with the highest number of reactions:**\n",
    "\n",
    "<img src=\"https://github.com/IgorRosocha/FacebookPostsAnalysis/blob/master/analysis/static/images/Reactions.png?raw=true\" style=\"width: 400px; float: left;\"/>"
   ]
  },
  {
   "cell_type": "code",
   "execution_count": null,
   "metadata": {},
   "outputs": [],
   "source": [
    "find_most(\"Number of reactions\")"
   ]
  },
  {
   "cell_type": "markdown",
   "metadata": {},
   "source": [
    "**b) Posts with the highest number of likes:**\n",
    "\n",
    "<img src=\"https://github.com/IgorRosocha/FacebookPostsAnalysis/blob/master/analysis/static/images/Like.png?raw=true\" style=\"width: 400px; float: left;\"/>"
   ]
  },
  {
   "cell_type": "code",
   "execution_count": null,
   "metadata": {},
   "outputs": [],
   "source": [
    "find_most(\"Number of Likes\")"
   ]
  },
  {
   "cell_type": "markdown",
   "metadata": {},
   "source": [
    "**c) Posts with the highest number of shares:**\n",
    "\n",
    "<img src=\"https://github.com/IgorRosocha/FacebookPostsAnalysis/blob/master/analysis/static/images/Share.png?raw=true\" style=\"width: 400px; float: left;\"/>"
   ]
  },
  {
   "cell_type": "code",
   "execution_count": null,
   "metadata": {},
   "outputs": [],
   "source": [
    "find_most(\"Number of shares\")"
   ]
  },
  {
   "cell_type": "markdown",
   "metadata": {},
   "source": [
    "**d) Posts with the highest number of comments:**\n",
    "\n",
    "<img src=\"https://github.com/IgorRosocha/FacebookPostsAnalysis/blob/master/analysis/static/images/Comment.png?raw=true\" style=\"width: 400px; float: left;\"/>"
   ]
  },
  {
   "cell_type": "code",
   "execution_count": null,
   "metadata": {},
   "outputs": [],
   "source": [
    "find_most(\"Number of comments\")"
   ]
  },
  {
   "cell_type": "markdown",
   "metadata": {},
   "source": [
    "### 2. Most unpopular posts:"
   ]
  },
  {
   "cell_type": "markdown",
   "metadata": {},
   "source": [
    "**a) Posts with the highest number of ANGRY reactions:**\n",
    "\n",
    "<img src=\"https://github.com/IgorRosocha/FacebookPostsAnalysis/blob/master/analysis/static/images/Angry.png?raw=true\" style=\"width: 400px; float: left;\"/>"
   ]
  },
  {
   "cell_type": "code",
   "execution_count": null,
   "metadata": {},
   "outputs": [],
   "source": [
    "find_most(\"Number of Angrys\")"
   ]
  },
  {
   "cell_type": "markdown",
   "metadata": {},
   "source": [
    "**a) Posts with the highest number of SAD reactions:**\n",
    "\n",
    "<img src=\"https://github.com/IgorRosocha/FacebookPostsAnalysis/blob/master/analysis/static/images/Sad.png?raw=true\" style=\"width: 400px; float: left;\"/>"
   ]
  },
  {
   "cell_type": "code",
   "execution_count": null,
   "metadata": {},
   "outputs": [],
   "source": [
    "find_most(\"Number of Sads\")"
   ]
  },
  {
   "cell_type": "markdown",
   "metadata": {},
   "source": [
    "### 3. Months with the biggest activity"
   ]
  },
  {
   "cell_type": "code",
   "execution_count": null,
   "metadata": {},
   "outputs": [],
   "source": [
    "activity = results[[\"Number of reactions\", \"Number of comments\", \"Date created\"]]\n",
    "activity = activity.assign(Ratio=activity[\"Number of reactions\"] + activity[\"Number of comments\"])\n",
    "activity[\"Date created\"] = pd.to_datetime(activity[\"Date created\"])\n",
    "activity = activity.sort_values(by=\"Date created\")\n",
    "activity[\"mnth_yr\"] = activity[\"Date created\"].apply(lambda x: x.strftime(\"%b-%Y\"))\n",
    "activity = activity.groupby([\"mnth_yr\"], sort=False).sum()\n",
    "activity = activity.drop([\"Number of comments\", \"Number of reactions\"], 1)"
   ]
  },
  {
   "cell_type": "code",
   "execution_count": null,
   "metadata": {},
   "outputs": [],
   "source": [
    "if activity[\"Ratio\"].max() < 250:\n",
    "    ticks = 10\n",
    "elif activity[\"Ratio\"].max() < 2500:\n",
    "    ticks = 100\n",
    "else:\n",
    "    ticks = 1000\n",
    "\n",
    "graph = activity.plot.bar(color=\"#8b9dc3\", title=\"Months with the biggest activity\", figsize=(15,5), legend=True)\n",
    "graph.set_xlabel(\"Month\")\n",
    "graph.set_ylabel(\"Activity Ratio\")\n",
    "graph.yaxis.set_ticks(np.arange(0,activity[\"Ratio\"].max(),ticks))\n",
    "graph.set_facecolor(\"#f7f7f7\")\n",
    "graph.grid(\"on\", which=\"major\", axis=\"y\")"
   ]
  }
 ],
 "metadata": {},
 "nbformat": 4,
 "nbformat_minor": 2
}
